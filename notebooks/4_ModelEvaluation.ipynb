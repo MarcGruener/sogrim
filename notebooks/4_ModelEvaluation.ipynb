{
  "nbformat": 4,
  "nbformat_minor": 0,
  "metadata": {
    "colab": {
      "name": "ModelEvaluation.ipynb",
      "provenance": [],
      "collapsed_sections": []
    },
    "kernelspec": {
      "name": "python3",
      "display_name": "Python 3"
    },
    "language_info": {
      "name": "python"
    }
  },
  "cells": [
    {
      "cell_type": "markdown",
      "source": [
        "# Building & Evaluating the Models"
      ],
      "metadata": {
        "id": "jrtXtMJHttqE"
      }
    },
    {
      "cell_type": "markdown",
      "source": [
        "## Importing Data"
      ],
      "metadata": {
        "id": "pg-OSz5At1hx"
      }
    },
    {
      "cell_type": "code",
      "execution_count": null,
      "metadata": {
        "id": "cVdPe60OrjK3"
      },
      "outputs": [],
      "source": [
        "import pandas as pd"
      ]
    },
    {
      "cell_type": "code",
      "source": [
        "data = pd.read_csv(\"data.csv\")"
      ],
      "metadata": {
        "id": "X42eKoFvuSEY"
      },
      "execution_count": null,
      "outputs": []
    },
    {
      "cell_type": "code",
      "source": [
        "data"
      ],
      "metadata": {
        "colab": {
          "base_uri": "https://localhost:8080/",
          "height": 517
        },
        "id": "vzuCFzQ5uVSv",
        "outputId": "a2065137-aa08-4f95-f1b5-34cc8f0c73f8"
      },
      "execution_count": null,
      "outputs": [
        {
          "output_type": "execute_result",
          "data": {
            "text/plain": [
              "      BEVDICHTE_SQKM_ 2019  AUSLAENDER_ANTEIL_2019  \\\n",
              "0               453.711133               15.839505   \n",
              "1              1764.424635               20.938777   \n",
              "2               584.110971               12.888601   \n",
              "3              1899.319728               44.138013   \n",
              "4               466.666667               15.909091   \n",
              "...                    ...                     ...   \n",
              "2137            534.225195               12.583472   \n",
              "2138             41.643836               13.190789   \n",
              "2139            133.739837                4.863222   \n",
              "2140            532.104122               24.419079   \n",
              "2141              0.860165               27.027027   \n",
              "\n",
              "      ALTERSVERTEILUNG_ANTEIL_0_19_ 2019  ALTERSVERTEILUNG_ANTEIL_20_64_ 2019  \\\n",
              "0                              20.404554                            60.362551   \n",
              "1                              17.383916                            64.414642   \n",
              "2                              19.624352                            59.045769   \n",
              "3                              20.475167                            65.222063   \n",
              "4                              20.541126                            60.129870   \n",
              "...                                  ...                                  ...   \n",
              "2137                           21.222871                            60.976628   \n",
              "2138                           16.973684                            56.842105   \n",
              "2139                           27.051672                            56.534954   \n",
              "2140                           20.423971                            64.329393   \n",
              "2141                            2.702703                            81.081081   \n",
              "\n",
              "      ALTERSVERTEILUNG_ANTEIL_65PLUS_ 2019  PRIVATHAUSHALTE_2019  \\\n",
              "0                                19.232895                3908.0   \n",
              "1                                18.201442               10591.0   \n",
              "2                                21.329879                2146.0   \n",
              "3                                14.302770                3735.0   \n",
              "4                                19.329004                1962.0   \n",
              "...                                    ...                   ...   \n",
              "2137                             17.800501                1969.0   \n",
              "2138                             26.184211                1385.0   \n",
              "2139                             16.413374                 125.0   \n",
              "2140                             15.246637                1057.0   \n",
              "2141                             16.216216                  44.0   \n",
              "\n",
              "      GESAMTFLAECHE_ SQKM_2016  LANDWIRTSCHAFTSFLAECHE_ANTEIL_2004/09  \\\n",
              "0                        19.94                              53.386854   \n",
              "1                        12.34                              11.407767   \n",
              "2                         7.93                              44.206549   \n",
              "3                         4.41                              19.318182   \n",
              "4                         9.90                              45.795339   \n",
              "...                        ...                                    ...   \n",
              "2137                      8.97                              54.849498   \n",
              "2138                     73.00                              54.853705   \n",
              "2139                      2.46                              62.962963   \n",
              "2140                      4.61                              33.043478   \n",
              "2141                     86.03                              11.252036   \n",
              "\n",
              "      WALD_GEHOELZE_ANTEIL_2004/09  UNPRODUKTIVE_FLAECHE_ANTEIL_2004/09  ...  \\\n",
              "0                        27.997993                             0.501756  ...   \n",
              "1                        32.281553                             7.119741  ...   \n",
              "2                        29.722922                             2.644836  ...   \n",
              "3                        31.136364                             3.863636  ...   \n",
              "4                        35.967579                             3.242148  ...   \n",
              "...                            ...                                  ...  ...   \n",
              "2137                     23.745819                             1.449275  ...   \n",
              "2138                     33.716161                             8.025704  ...   \n",
              "2139                     26.337449                             0.823045  ...   \n",
              "2140                     38.478261                             2.826087  ...   \n",
              "2141                     28.717710                            59.657901  ...   \n",
              "\n",
              "      BESCHAEFTIGTE_ZWEITERRSEKTOR_2018  BESCHAEFTIGTE_DRITTERSEKTOR_2018  \\\n",
              "0                                1462.0                            1959.0   \n",
              "1                                3213.0                           31646.0   \n",
              "2                                 799.0                            1958.0   \n",
              "3                                1095.0                            2356.0   \n",
              "4                                 570.0                             948.0   \n",
              "...                                 ...                               ...   \n",
              "2137                              761.0                            1200.0   \n",
              "2138                              307.0                            1202.0   \n",
              "2139                               30.0                              42.0   \n",
              "2140                              522.0                             550.0   \n",
              "2141                               12.0                              28.0   \n",
              "\n",
              "      NEUWOHNUNGEN_PRO_1000_2018  SOZAILHILFEQUOTE_2019  \\\n",
              "0                       4.952167                  1.070   \n",
              "1                      21.957871                  3.580   \n",
              "2                       3.492687                  2.740   \n",
              "3                       2.602876                  4.920   \n",
              "4                      20.159504                  3.920   \n",
              "...                          ...                    ...   \n",
              "2137                    1.878914                  0.610   \n",
              "2138                    0.990099                  1.330   \n",
              "2139                   12.345679                  3.164   \n",
              "2140                   13.253527                  3.580   \n",
              "2141                    0.000000                  2.348   \n",
              "\n",
              "      WAEHLERANTEIL_SP_2019  WAEHLERANTEIL_SVP_2019  \\\n",
              "0                 10.728960               37.415507   \n",
              "1                 26.428113               16.347677   \n",
              "2                 14.825120               33.668160   \n",
              "3                 20.964612               34.902522   \n",
              "4                 13.289057               38.645406   \n",
              "...                     ...                     ...   \n",
              "2137               9.440489               34.137170   \n",
              "2138               9.453356               50.826902   \n",
              "2139               9.921044               40.370752   \n",
              "2140              19.854501               33.404062   \n",
              "2141               1.255230               58.577406   \n",
              "\n",
              "      AVG_INCOME_PRO_STEUERPFLPERSON  ANZAHL_FAHRZEUGE  \\\n",
              "0                       68464.601333       6014.000001   \n",
              "1                       72516.345149      10976.000000   \n",
              "2                       64687.799155       2807.999999   \n",
              "3                       60540.820872       4758.000002   \n",
              "4                       65314.566285       2699.000000   \n",
              "...                              ...               ...   \n",
              "2137                    80012.956811       3202.000000   \n",
              "2138                    58806.567631       1793.000000   \n",
              "2139                    62723.214286        178.000000   \n",
              "2140                    67304.796663       1612.000000   \n",
              "2141                    50772.727273        230.400000   \n",
              "\n",
              "      ANZAHL_HALTESTELLEN_OV  Anzahl Filialen Migros  \n",
              "0                        9.0                     1.0  \n",
              "1                       51.0                     4.0  \n",
              "2                       11.0                     0.0  \n",
              "3                       10.0                     1.0  \n",
              "4                        4.0                     1.0  \n",
              "...                      ...                     ...  \n",
              "2137                     9.0                     2.0  \n",
              "2138                    29.0                     1.0  \n",
              "2139                     1.0                     0.0  \n",
              "2140                     7.0                     1.0  \n",
              "2141                     5.0                     0.0  \n",
              "\n",
              "[2142 rows x 21 columns]"
            ],
            "text/html": [
              "\n",
              "  <div id=\"df-9041b480-b4f4-4d9b-be23-bdf32c3ff6bc\">\n",
              "    <div class=\"colab-df-container\">\n",
              "      <div>\n",
              "<style scoped>\n",
              "    .dataframe tbody tr th:only-of-type {\n",
              "        vertical-align: middle;\n",
              "    }\n",
              "\n",
              "    .dataframe tbody tr th {\n",
              "        vertical-align: top;\n",
              "    }\n",
              "\n",
              "    .dataframe thead th {\n",
              "        text-align: right;\n",
              "    }\n",
              "</style>\n",
              "<table border=\"1\" class=\"dataframe\">\n",
              "  <thead>\n",
              "    <tr style=\"text-align: right;\">\n",
              "      <th></th>\n",
              "      <th>BEVDICHTE_SQKM_ 2019</th>\n",
              "      <th>AUSLAENDER_ANTEIL_2019</th>\n",
              "      <th>ALTERSVERTEILUNG_ANTEIL_0_19_ 2019</th>\n",
              "      <th>ALTERSVERTEILUNG_ANTEIL_20_64_ 2019</th>\n",
              "      <th>ALTERSVERTEILUNG_ANTEIL_65PLUS_ 2019</th>\n",
              "      <th>PRIVATHAUSHALTE_2019</th>\n",
              "      <th>GESAMTFLAECHE_ SQKM_2016</th>\n",
              "      <th>LANDWIRTSCHAFTSFLAECHE_ANTEIL_2004/09</th>\n",
              "      <th>WALD_GEHOELZE_ANTEIL_2004/09</th>\n",
              "      <th>UNPRODUKTIVE_FLAECHE_ANTEIL_2004/09</th>\n",
              "      <th>...</th>\n",
              "      <th>BESCHAEFTIGTE_ZWEITERRSEKTOR_2018</th>\n",
              "      <th>BESCHAEFTIGTE_DRITTERSEKTOR_2018</th>\n",
              "      <th>NEUWOHNUNGEN_PRO_1000_2018</th>\n",
              "      <th>SOZAILHILFEQUOTE_2019</th>\n",
              "      <th>WAEHLERANTEIL_SP_2019</th>\n",
              "      <th>WAEHLERANTEIL_SVP_2019</th>\n",
              "      <th>AVG_INCOME_PRO_STEUERPFLPERSON</th>\n",
              "      <th>ANZAHL_FAHRZEUGE</th>\n",
              "      <th>ANZAHL_HALTESTELLEN_OV</th>\n",
              "      <th>Anzahl Filialen Migros</th>\n",
              "    </tr>\n",
              "  </thead>\n",
              "  <tbody>\n",
              "    <tr>\n",
              "      <th>0</th>\n",
              "      <td>453.711133</td>\n",
              "      <td>15.839505</td>\n",
              "      <td>20.404554</td>\n",
              "      <td>60.362551</td>\n",
              "      <td>19.232895</td>\n",
              "      <td>3908.0</td>\n",
              "      <td>19.94</td>\n",
              "      <td>53.386854</td>\n",
              "      <td>27.997993</td>\n",
              "      <td>0.501756</td>\n",
              "      <td>...</td>\n",
              "      <td>1462.0</td>\n",
              "      <td>1959.0</td>\n",
              "      <td>4.952167</td>\n",
              "      <td>1.070</td>\n",
              "      <td>10.728960</td>\n",
              "      <td>37.415507</td>\n",
              "      <td>68464.601333</td>\n",
              "      <td>6014.000001</td>\n",
              "      <td>9.0</td>\n",
              "      <td>1.0</td>\n",
              "    </tr>\n",
              "    <tr>\n",
              "      <th>1</th>\n",
              "      <td>1764.424635</td>\n",
              "      <td>20.938777</td>\n",
              "      <td>17.383916</td>\n",
              "      <td>64.414642</td>\n",
              "      <td>18.201442</td>\n",
              "      <td>10591.0</td>\n",
              "      <td>12.34</td>\n",
              "      <td>11.407767</td>\n",
              "      <td>32.281553</td>\n",
              "      <td>7.119741</td>\n",
              "      <td>...</td>\n",
              "      <td>3213.0</td>\n",
              "      <td>31646.0</td>\n",
              "      <td>21.957871</td>\n",
              "      <td>3.580</td>\n",
              "      <td>26.428113</td>\n",
              "      <td>16.347677</td>\n",
              "      <td>72516.345149</td>\n",
              "      <td>10976.000000</td>\n",
              "      <td>51.0</td>\n",
              "      <td>4.0</td>\n",
              "    </tr>\n",
              "    <tr>\n",
              "      <th>2</th>\n",
              "      <td>584.110971</td>\n",
              "      <td>12.888601</td>\n",
              "      <td>19.624352</td>\n",
              "      <td>59.045769</td>\n",
              "      <td>21.329879</td>\n",
              "      <td>2146.0</td>\n",
              "      <td>7.93</td>\n",
              "      <td>44.206549</td>\n",
              "      <td>29.722922</td>\n",
              "      <td>2.644836</td>\n",
              "      <td>...</td>\n",
              "      <td>799.0</td>\n",
              "      <td>1958.0</td>\n",
              "      <td>3.492687</td>\n",
              "      <td>2.740</td>\n",
              "      <td>14.825120</td>\n",
              "      <td>33.668160</td>\n",
              "      <td>64687.799155</td>\n",
              "      <td>2807.999999</td>\n",
              "      <td>11.0</td>\n",
              "      <td>0.0</td>\n",
              "    </tr>\n",
              "    <tr>\n",
              "      <th>3</th>\n",
              "      <td>1899.319728</td>\n",
              "      <td>44.138013</td>\n",
              "      <td>20.475167</td>\n",
              "      <td>65.222063</td>\n",
              "      <td>14.302770</td>\n",
              "      <td>3735.0</td>\n",
              "      <td>4.41</td>\n",
              "      <td>19.318182</td>\n",
              "      <td>31.136364</td>\n",
              "      <td>3.863636</td>\n",
              "      <td>...</td>\n",
              "      <td>1095.0</td>\n",
              "      <td>2356.0</td>\n",
              "      <td>2.602876</td>\n",
              "      <td>4.920</td>\n",
              "      <td>20.964612</td>\n",
              "      <td>34.902522</td>\n",
              "      <td>60540.820872</td>\n",
              "      <td>4758.000002</td>\n",
              "      <td>10.0</td>\n",
              "      <td>1.0</td>\n",
              "    </tr>\n",
              "    <tr>\n",
              "      <th>4</th>\n",
              "      <td>466.666667</td>\n",
              "      <td>15.909091</td>\n",
              "      <td>20.541126</td>\n",
              "      <td>60.129870</td>\n",
              "      <td>19.329004</td>\n",
              "      <td>1962.0</td>\n",
              "      <td>9.90</td>\n",
              "      <td>45.795339</td>\n",
              "      <td>35.967579</td>\n",
              "      <td>3.242148</td>\n",
              "      <td>...</td>\n",
              "      <td>570.0</td>\n",
              "      <td>948.0</td>\n",
              "      <td>20.159504</td>\n",
              "      <td>3.920</td>\n",
              "      <td>13.289057</td>\n",
              "      <td>38.645406</td>\n",
              "      <td>65314.566285</td>\n",
              "      <td>2699.000000</td>\n",
              "      <td>4.0</td>\n",
              "      <td>1.0</td>\n",
              "    </tr>\n",
              "    <tr>\n",
              "      <th>...</th>\n",
              "      <td>...</td>\n",
              "      <td>...</td>\n",
              "      <td>...</td>\n",
              "      <td>...</td>\n",
              "      <td>...</td>\n",
              "      <td>...</td>\n",
              "      <td>...</td>\n",
              "      <td>...</td>\n",
              "      <td>...</td>\n",
              "      <td>...</td>\n",
              "      <td>...</td>\n",
              "      <td>...</td>\n",
              "      <td>...</td>\n",
              "      <td>...</td>\n",
              "      <td>...</td>\n",
              "      <td>...</td>\n",
              "      <td>...</td>\n",
              "      <td>...</td>\n",
              "      <td>...</td>\n",
              "      <td>...</td>\n",
              "      <td>...</td>\n",
              "    </tr>\n",
              "    <tr>\n",
              "      <th>2137</th>\n",
              "      <td>534.225195</td>\n",
              "      <td>12.583472</td>\n",
              "      <td>21.222871</td>\n",
              "      <td>60.976628</td>\n",
              "      <td>17.800501</td>\n",
              "      <td>1969.0</td>\n",
              "      <td>8.97</td>\n",
              "      <td>54.849498</td>\n",
              "      <td>23.745819</td>\n",
              "      <td>1.449275</td>\n",
              "      <td>...</td>\n",
              "      <td>761.0</td>\n",
              "      <td>1200.0</td>\n",
              "      <td>1.878914</td>\n",
              "      <td>0.610</td>\n",
              "      <td>9.440489</td>\n",
              "      <td>34.137170</td>\n",
              "      <td>80012.956811</td>\n",
              "      <td>3202.000000</td>\n",
              "      <td>9.0</td>\n",
              "      <td>2.0</td>\n",
              "    </tr>\n",
              "    <tr>\n",
              "      <th>2138</th>\n",
              "      <td>41.643836</td>\n",
              "      <td>13.190789</td>\n",
              "      <td>16.973684</td>\n",
              "      <td>56.842105</td>\n",
              "      <td>26.184211</td>\n",
              "      <td>1385.0</td>\n",
              "      <td>73.00</td>\n",
              "      <td>54.853705</td>\n",
              "      <td>33.716161</td>\n",
              "      <td>8.025704</td>\n",
              "      <td>...</td>\n",
              "      <td>307.0</td>\n",
              "      <td>1202.0</td>\n",
              "      <td>0.990099</td>\n",
              "      <td>1.330</td>\n",
              "      <td>9.453356</td>\n",
              "      <td>50.826902</td>\n",
              "      <td>58806.567631</td>\n",
              "      <td>1793.000000</td>\n",
              "      <td>29.0</td>\n",
              "      <td>1.0</td>\n",
              "    </tr>\n",
              "    <tr>\n",
              "      <th>2139</th>\n",
              "      <td>133.739837</td>\n",
              "      <td>4.863222</td>\n",
              "      <td>27.051672</td>\n",
              "      <td>56.534954</td>\n",
              "      <td>16.413374</td>\n",
              "      <td>125.0</td>\n",
              "      <td>2.46</td>\n",
              "      <td>62.962963</td>\n",
              "      <td>26.337449</td>\n",
              "      <td>0.823045</td>\n",
              "      <td>...</td>\n",
              "      <td>30.0</td>\n",
              "      <td>42.0</td>\n",
              "      <td>12.345679</td>\n",
              "      <td>3.164</td>\n",
              "      <td>9.921044</td>\n",
              "      <td>40.370752</td>\n",
              "      <td>62723.214286</td>\n",
              "      <td>178.000000</td>\n",
              "      <td>1.0</td>\n",
              "      <td>0.0</td>\n",
              "    </tr>\n",
              "    <tr>\n",
              "      <th>2140</th>\n",
              "      <td>532.104122</td>\n",
              "      <td>24.419079</td>\n",
              "      <td>20.423971</td>\n",
              "      <td>64.329393</td>\n",
              "      <td>15.246637</td>\n",
              "      <td>1057.0</td>\n",
              "      <td>4.61</td>\n",
              "      <td>33.043478</td>\n",
              "      <td>38.478261</td>\n",
              "      <td>2.826087</td>\n",
              "      <td>...</td>\n",
              "      <td>522.0</td>\n",
              "      <td>550.0</td>\n",
              "      <td>13.253527</td>\n",
              "      <td>3.580</td>\n",
              "      <td>19.854501</td>\n",
              "      <td>33.404062</td>\n",
              "      <td>67304.796663</td>\n",
              "      <td>1612.000000</td>\n",
              "      <td>7.0</td>\n",
              "      <td>1.0</td>\n",
              "    </tr>\n",
              "    <tr>\n",
              "      <th>2141</th>\n",
              "      <td>0.860165</td>\n",
              "      <td>27.027027</td>\n",
              "      <td>2.702703</td>\n",
              "      <td>81.081081</td>\n",
              "      <td>16.216216</td>\n",
              "      <td>44.0</td>\n",
              "      <td>86.03</td>\n",
              "      <td>11.252036</td>\n",
              "      <td>28.717710</td>\n",
              "      <td>59.657901</td>\n",
              "      <td>...</td>\n",
              "      <td>12.0</td>\n",
              "      <td>28.0</td>\n",
              "      <td>0.000000</td>\n",
              "      <td>2.348</td>\n",
              "      <td>1.255230</td>\n",
              "      <td>58.577406</td>\n",
              "      <td>50772.727273</td>\n",
              "      <td>230.400000</td>\n",
              "      <td>5.0</td>\n",
              "      <td>0.0</td>\n",
              "    </tr>\n",
              "  </tbody>\n",
              "</table>\n",
              "<p>2142 rows × 21 columns</p>\n",
              "</div>\n",
              "      <button class=\"colab-df-convert\" onclick=\"convertToInteractive('df-9041b480-b4f4-4d9b-be23-bdf32c3ff6bc')\"\n",
              "              title=\"Convert this dataframe to an interactive table.\"\n",
              "              style=\"display:none;\">\n",
              "        \n",
              "  <svg xmlns=\"http://www.w3.org/2000/svg\" height=\"24px\"viewBox=\"0 0 24 24\"\n",
              "       width=\"24px\">\n",
              "    <path d=\"M0 0h24v24H0V0z\" fill=\"none\"/>\n",
              "    <path d=\"M18.56 5.44l.94 2.06.94-2.06 2.06-.94-2.06-.94-.94-2.06-.94 2.06-2.06.94zm-11 1L8.5 8.5l.94-2.06 2.06-.94-2.06-.94L8.5 2.5l-.94 2.06-2.06.94zm10 10l.94 2.06.94-2.06 2.06-.94-2.06-.94-.94-2.06-.94 2.06-2.06.94z\"/><path d=\"M17.41 7.96l-1.37-1.37c-.4-.4-.92-.59-1.43-.59-.52 0-1.04.2-1.43.59L10.3 9.45l-7.72 7.72c-.78.78-.78 2.05 0 2.83L4 21.41c.39.39.9.59 1.41.59.51 0 1.02-.2 1.41-.59l7.78-7.78 2.81-2.81c.8-.78.8-2.07 0-2.86zM5.41 20L4 18.59l7.72-7.72 1.47 1.35L5.41 20z\"/>\n",
              "  </svg>\n",
              "      </button>\n",
              "      \n",
              "  <style>\n",
              "    .colab-df-container {\n",
              "      display:flex;\n",
              "      flex-wrap:wrap;\n",
              "      gap: 12px;\n",
              "    }\n",
              "\n",
              "    .colab-df-convert {\n",
              "      background-color: #E8F0FE;\n",
              "      border: none;\n",
              "      border-radius: 50%;\n",
              "      cursor: pointer;\n",
              "      display: none;\n",
              "      fill: #1967D2;\n",
              "      height: 32px;\n",
              "      padding: 0 0 0 0;\n",
              "      width: 32px;\n",
              "    }\n",
              "\n",
              "    .colab-df-convert:hover {\n",
              "      background-color: #E2EBFA;\n",
              "      box-shadow: 0px 1px 2px rgba(60, 64, 67, 0.3), 0px 1px 3px 1px rgba(60, 64, 67, 0.15);\n",
              "      fill: #174EA6;\n",
              "    }\n",
              "\n",
              "    [theme=dark] .colab-df-convert {\n",
              "      background-color: #3B4455;\n",
              "      fill: #D2E3FC;\n",
              "    }\n",
              "\n",
              "    [theme=dark] .colab-df-convert:hover {\n",
              "      background-color: #434B5C;\n",
              "      box-shadow: 0px 1px 3px 1px rgba(0, 0, 0, 0.15);\n",
              "      filter: drop-shadow(0px 1px 2px rgba(0, 0, 0, 0.3));\n",
              "      fill: #FFFFFF;\n",
              "    }\n",
              "  </style>\n",
              "\n",
              "      <script>\n",
              "        const buttonEl =\n",
              "          document.querySelector('#df-9041b480-b4f4-4d9b-be23-bdf32c3ff6bc button.colab-df-convert');\n",
              "        buttonEl.style.display =\n",
              "          google.colab.kernel.accessAllowed ? 'block' : 'none';\n",
              "\n",
              "        async function convertToInteractive(key) {\n",
              "          const element = document.querySelector('#df-9041b480-b4f4-4d9b-be23-bdf32c3ff6bc');\n",
              "          const dataTable =\n",
              "            await google.colab.kernel.invokeFunction('convertToInteractive',\n",
              "                                                     [key], {});\n",
              "          if (!dataTable) return;\n",
              "\n",
              "          const docLinkHtml = 'Like what you see? Visit the ' +\n",
              "            '<a target=\"_blank\" href=https://colab.research.google.com/notebooks/data_table.ipynb>data table notebook</a>'\n",
              "            + ' to learn more about interactive tables.';\n",
              "          element.innerHTML = '';\n",
              "          dataTable['output_type'] = 'display_data';\n",
              "          await google.colab.output.renderOutput(dataTable, element);\n",
              "          const docLink = document.createElement('div');\n",
              "          docLink.innerHTML = docLinkHtml;\n",
              "          element.appendChild(docLink);\n",
              "        }\n",
              "      </script>\n",
              "    </div>\n",
              "  </div>\n",
              "  "
            ]
          },
          "metadata": {},
          "execution_count": 3
        }
      ]
    },
    {
      "cell_type": "code",
      "source": [
        "import matplotlib.pyplot as plt\n",
        "\n",
        "plt.matshow(data.corr())\n",
        "plt.show()"
      ],
      "metadata": {
        "colab": {
          "base_uri": "https://localhost:8080/",
          "height": 275
        },
        "id": "le8I0IGCF7NL",
        "outputId": "9064830b-619f-4aef-f025-b4bdfc79578d"
      },
      "execution_count": null,
      "outputs": [
        {
          "output_type": "display_data",
          "data": {
            "text/plain": [
              "<Figure size 288x288 with 1 Axes>"
            ],
            "image/png": "[encoded data removed]"
          },
          "metadata": {
            "needs_background": "light"
          }
        }
      ]
    },
    {
      "cell_type": "code",
      "source": [
        "corr = data.corr()\n",
        "corr[abs(corr)>=0.7].unstack().dropna().drop_duplicates().sort_values(ascending=False)"
      ],
      "metadata": {
        "colab": {
          "base_uri": "https://localhost:8080/"
        },
        "id": "yhG7xtCxF9fh",
        "outputId": "57d33d19-5de6-4833-ed55-47147e68be1c"
      },
      "execution_count": null,
      "outputs": [
        {
          "output_type": "execute_result",
          "data": {
            "text/plain": [
              "BEVDICHTE_SQKM_ 2019               BEVDICHTE_SQKM_ 2019                 1.000000\n",
              "PRIVATHAUSHALTE_2019               BESCHAEFTIGTE_DRITTERSEKTOR_2018     0.972271\n",
              "                                   ANZAHL_FAHRZEUGE                     0.968456\n",
              "                                   Anzahl Filialen Migros               0.915845\n",
              "BESCHAEFTIGTE_DRITTERSEKTOR_2018   ANZAHL_FAHRZEUGE                     0.911089\n",
              "                                   Anzahl Filialen Migros               0.901345\n",
              "ANZAHL_FAHRZEUGE                   Anzahl Filialen Migros               0.895100\n",
              "                                   ANZAHL_HALTESTELLEN_OV               0.862191\n",
              "BESCHAEFTIGTE_ZWEITERRSEKTOR_2018  ANZAHL_FAHRZEUGE                     0.860905\n",
              "PRIVATHAUSHALTE_2019               BESCHAEFTIGTE_ZWEITERRSEKTOR_2018    0.838082\n",
              "                                   ANZAHL_HALTESTELLEN_OV               0.815427\n",
              "BESCHAEFTIGTE_ZWEITERRSEKTOR_2018  Anzahl Filialen Migros               0.785307\n",
              "                                   BESCHAEFTIGTE_DRITTERSEKTOR_2018     0.774594\n",
              "ANZAHL_HALTESTELLEN_OV             Anzahl Filialen Migros               0.755091\n",
              "BESCHAEFTIGTE_ZWEITERRSEKTOR_2018  ANZAHL_HALTESTELLEN_OV               0.754140\n",
              "BESCHAEFTIGTE_DRITTERSEKTOR_2018   ANZAHL_HALTESTELLEN_OV               0.752949\n",
              "dtype: float64"
            ]
          },
          "metadata": {},
          "execution_count": 37
        }
      ]
    },
    {
      "cell_type": "code",
      "source": [
        "X = data.drop(\"Anzahl Filialen Migros\", axis=1)\n",
        "y = data[\"Anzahl Filialen Migros\"]"
      ],
      "metadata": {
        "id": "kDc19MyUv5vU"
      },
      "execution_count": null,
      "outputs": []
    },
    {
      "cell_type": "code",
      "source": [
        "from sklearn.model_selection import train_test_split\n",
        "\n",
        "X_train, X_test, y_train, y_test = train_test_split(X, y, train_size=0.90, random_state=0)"
      ],
      "metadata": {
        "id": "B-nCdazTwJAr"
      },
      "execution_count": null,
      "outputs": []
    },
    {
      "cell_type": "code",
      "source": [
        "predictions = pd.DataFrame()\n",
        "predictions[\"true\"] = y_test"
      ],
      "metadata": {
        "id": "_sm1KGRFwR2U"
      },
      "execution_count": null,
      "outputs": []
    },
    {
      "cell_type": "markdown",
      "source": [
        "## Training various models"
      ],
      "metadata": {
        "id": "pFY_RNWwvqPc"
      }
    },
    {
      "cell_type": "code",
      "source": [
        "from sklearn.model_selection import GridSearchCV"
      ],
      "metadata": {
        "id": "xHF9jWtbzzBw"
      },
      "execution_count": null,
      "outputs": []
    },
    {
      "cell_type": "markdown",
      "source": [
        "### Linear Regression"
      ],
      "metadata": {
        "id": "IXWOOuibvuAb"
      }
    },
    {
      "cell_type": "code",
      "source": [
        "from sklearn.linear_model import LinearRegression"
      ],
      "metadata": {
        "id": "PtB48RuIwQDZ"
      },
      "execution_count": null,
      "outputs": []
    },
    {
      "cell_type": "code",
      "source": [
        "linregModel = LinearRegression().fit(X_train, y_train)"
      ],
      "metadata": {
        "id": "RT3iArXJwacF"
      },
      "execution_count": null,
      "outputs": []
    },
    {
      "cell_type": "code",
      "source": [
        "predictions[\"linregModel\"] = linregModel.predict(X_test)\n",
        "print(predictions.linregModel[predictions.linregModel < 0].count())\n",
        "predictions[\"linregModel\"] = predictions[\"linregModel\"].round(0)\n",
        "predictions.linregModel.clip(lower=0, inplace=True)"
      ],
      "metadata": {
        "id": "eRXxPqj4wbkg",
        "colab": {
          "base_uri": "https://localhost:8080/"
        },
        "outputId": "c59fbd65-4730-49a0-9509-0da06950039a"
      },
      "execution_count": null,
      "outputs": [
        {
          "output_type": "stream",
          "name": "stdout",
          "text": [
            "215\n",
            "50\n"
          ]
        }
      ]
    },
    {
      "cell_type": "markdown",
      "source": [
        "### KNN"
      ],
      "metadata": {
        "id": "zoBoOgeryNhg"
      }
    },
    {
      "cell_type": "code",
      "source": [
        "from sklearn.neighbors import KNeighborsRegressor"
      ],
      "metadata": {
        "id": "-B6WP41FyTOx"
      },
      "execution_count": null,
      "outputs": []
    },
    {
      "cell_type": "code",
      "source": [
        "knnparams = {'n_neighbors': [2, 3, 5, 10, 20, 50, 75, 100, 200, 500],\n",
        "          'weights': ['distance', 'uniform'],\n",
        "          'algorithm':['auto']}"
      ],
      "metadata": {
        "id": "8xF3KEhjyUDm"
      },
      "execution_count": null,
      "outputs": []
    },
    {
      "cell_type": "code",
      "source": [
        "knnModel = KNeighborsRegressor()\n",
        "knnModelGS = GridSearchCV(knnModel, param_grid=knnparams).fit(X_train, y_train)"
      ],
      "metadata": {
        "id": "qQPUgRhpyV-M"
      },
      "execution_count": null,
      "outputs": []
    },
    {
      "cell_type": "code",
      "source": [
        "knnModelGS.best_params_"
      ],
      "metadata": {
        "colab": {
          "base_uri": "https://localhost:8080/"
        },
        "id": "24DaoHzNydaA",
        "outputId": "6d94a2e5-234c-4eb5-f613-7601388487a7"
      },
      "execution_count": null,
      "outputs": [
        {
          "output_type": "execute_result",
          "data": {
            "text/plain": [
              "{'algorithm': 'auto', 'n_neighbors': 5, 'weights': 'uniform'}"
            ]
          },
          "metadata": {},
          "execution_count": 14
        }
      ]
    },
    {
      "cell_type": "code",
      "source": [
        "predictions[\"knnModel\"] = knnModelGS.predict(X_test).round(0)"
      ],
      "metadata": {
        "id": "pSHsw5U3yfl6"
      },
      "execution_count": null,
      "outputs": []
    },
    {
      "cell_type": "markdown",
      "source": [
        "### Random Forest"
      ],
      "metadata": {
        "id": "YPx57Qqzy095"
      }
    },
    {
      "cell_type": "code",
      "source": [
        "from sklearn.ensemble import RandomForestRegressor"
      ],
      "metadata": {
        "id": "BOtHHFPLy2Kh"
      },
      "execution_count": null,
      "outputs": []
    },
    {
      "cell_type": "code",
      "source": [
        "rfparams = {'max_depth': [10, 20, 50, 100],\n",
        " 'max_features': ['auto'],\n",
        " 'min_samples_leaf': [1, 2, 4, 8]}"
      ],
      "metadata": {
        "id": "lTeBCfpizRKv"
      },
      "execution_count": null,
      "outputs": []
    },
    {
      "cell_type": "code",
      "source": [
        "rfModel = RandomForestRegressor()\n",
        "rfModelGS = GridSearchCV(rfModel, param_grid=rfparams).fit(X_train, y_train)"
      ],
      "metadata": {
        "id": "RKsvck4xy97v"
      },
      "execution_count": null,
      "outputs": []
    },
    {
      "cell_type": "code",
      "source": [
        "rfModelGS.best_params_"
      ],
      "metadata": {
        "colab": {
          "base_uri": "https://localhost:8080/"
        },
        "id": "rgLx2BExz-Cs",
        "outputId": "8674da70-b725-4c57-d719-96c74b534808"
      },
      "execution_count": null,
      "outputs": [
        {
          "output_type": "execute_result",
          "data": {
            "text/plain": [
              "{'max_depth': 50, 'max_features': 'auto', 'min_samples_leaf': 1}"
            ]
          },
          "metadata": {},
          "execution_count": 19
        }
      ]
    },
    {
      "cell_type": "code",
      "source": [
        "predictions[\"rfModel\"] = rfModelGS.predict(X_test).round(0)"
      ],
      "metadata": {
        "id": "OhhtBHgt0DPt"
      },
      "execution_count": null,
      "outputs": []
    },
    {
      "cell_type": "markdown",
      "source": [
        "### XGBRegressor"
      ],
      "metadata": {
        "id": "cKpvNEId0M7Z"
      }
    },
    {
      "cell_type": "code",
      "source": [
        "from xgboost import XGBRegressor"
      ],
      "metadata": {
        "id": "je9nGLhS0RXp"
      },
      "execution_count": null,
      "outputs": []
    },
    {
      "cell_type": "code",
      "source": [
        "xgbrparams = {'objective':['reg:squarederror'],\n",
        "          'n_estimators': [10, 20, 50, 100],\n",
        "          'max_depth': [5, 7, 10],\n",
        "          'eta': [0.01, 0.02, 0.05, 0.1],\n",
        "          'subsample': [0.6],\n",
        "          'colsample_bytree': [0.7],\n",
        "          }"
      ],
      "metadata": {
        "id": "hhuYO2r40Tzg"
      },
      "execution_count": null,
      "outputs": []
    },
    {
      "cell_type": "code",
      "source": [
        "xgbrModel = XGBRegressor()\n",
        "xgbrModelGS = GridSearchCV(xgbrModel, param_grid=xgbrparams).fit(X_train, y_train)"
      ],
      "metadata": {
        "id": "ennRcGqZ0YU_"
      },
      "execution_count": null,
      "outputs": []
    },
    {
      "cell_type": "code",
      "source": [
        "xgbrModelGS.best_params_"
      ],
      "metadata": {
        "colab": {
          "base_uri": "https://localhost:8080/"
        },
        "id": "Dui_nKyp0jsR",
        "outputId": "83d058f4-e248-4d0b-e3df-2740c8864c2d"
      },
      "execution_count": null,
      "outputs": [
        {
          "output_type": "execute_result",
          "data": {
            "text/plain": [
              "{'colsample_bytree': 0.7,\n",
              " 'eta': 0.01,\n",
              " 'max_depth': 5,\n",
              " 'n_estimators': 50,\n",
              " 'objective': 'reg:squarederror',\n",
              " 'subsample': 0.6}"
            ]
          },
          "metadata": {},
          "execution_count": 24
        }
      ]
    },
    {
      "cell_type": "code",
      "source": [
        "predictions[\"xgbrModel\"] = xgbrModelGS.predict(X_test).round(0)"
      ],
      "metadata": {
        "id": "NJLL-7ne0mYk"
      },
      "execution_count": null,
      "outputs": []
    },
    {
      "cell_type": "markdown",
      "source": [
        "### Ensemble with uniform weights"
      ],
      "metadata": {
        "id": "Ve35xFw7W0n_"
      }
    },
    {
      "cell_type": "code",
      "source": [
        "predictions[\"ensemble\"] = predictions[['linregModel', 'knnModel', 'rfModel', 'xgbrModel']].mean(axis=1).round(0)"
      ],
      "metadata": {
        "id": "LFrK701OWz_H"
      },
      "execution_count": null,
      "outputs": []
    },
    {
      "cell_type": "code",
      "source": [
        "print(predictions.linregModel.max())\n",
        "print(predictions.knnModel.max())\n",
        "print(predictions.rfModel.max())\n",
        "print(predictions.xgbrModel.max())\n",
        "print(predictions.ensemble.max())"
      ],
      "metadata": {
        "colab": {
          "base_uri": "https://localhost:8080/"
        },
        "id": "IKscQICeXZSJ",
        "outputId": "cdb3a69c-e803-4984-a61e-dabfe31312f1"
      },
      "execution_count": null,
      "outputs": [
        {
          "output_type": "stream",
          "name": "stdout",
          "text": [
            "12.0\n",
            "9.0\n",
            "13.0\n",
            "14.0\n",
            "12.0\n"
          ]
        }
      ]
    },
    {
      "cell_type": "markdown",
      "source": [
        "## Model Evaluation"
      ],
      "metadata": {
        "id": "Etdpmic42n_I"
      }
    },
    {
      "cell_type": "markdown",
      "source": [
        "### Actual vs. Predicted Plot"
      ],
      "metadata": {
        "id": "Dw9axcta2pTU"
      }
    },
    {
      "cell_type": "code",
      "source": [
        "from numpy.ma.core import shape\n",
        "import numpy as np\n",
        "\n",
        "def actual_pred_graph(predictions, modelName):\n",
        "  Z = pd.crosstab(predictions[modelName], predictions.true)\n",
        "  result = pd.DataFrame(0, index=np.arange(0.0, 16.0, 1.0), columns=np.arange(0.0, 16.0, 1.0))\n",
        "  result = np.log(result.combine(Z, sum, fill_value=0, overwrite=False))\n",
        "  fig, ax = plt.subplots()\n",
        "  plt.title(modelName)\n",
        "  pos = ax.imshow(result)\n",
        "  fig.colorbar(pos)\n",
        "  plt.xticks(range(0,16))\n",
        "  plt.yticks(range(0,16))\n",
        "  plt.xlabel(\"Actual\")\n",
        "  plt.ylabel(\"Predicted\")\n",
        "  plt.gca().invert_yaxis()\n",
        "  plt.show()"
      ],
      "metadata": {
        "id": "cE22wklUHW-_"
      },
      "execution_count": null,
      "outputs": []
    },
    {
      "cell_type": "code",
      "source": [
        "actual_pred_graph(predictions, \"linregModel\")"
      ],
      "metadata": {
        "colab": {
          "base_uri": "https://localhost:8080/",
          "height": 295
        },
        "id": "snKY14ssPgYh",
        "outputId": "b2229c4b-8fd3-4d00-e799-5f4966c55acd"
      },
      "execution_count": null,
      "outputs": [
        {
          "output_type": "display_data",
          "data": {
            "text/plain": [
              "<Figure size 432x288 with 2 Axes>"
            ],
            "image/png": "[encoded data removed]"
          },
          "metadata": {
            "needs_background": "light"
          }
        }
      ]
    },
    {
      "cell_type": "code",
      "source": [
        "actual_pred_graph(predictions, \"knnModel\")"
      ],
      "metadata": {
        "colab": {
          "base_uri": "https://localhost:8080/",
          "height": 295
        },
        "id": "MlVo-MIdT_tS",
        "outputId": "dbc5e9d9-07f0-4ebf-aeb9-74cc26c0082d"
      },
      "execution_count": null,
      "outputs": [
        {
          "output_type": "display_data",
          "data": {
            "text/plain": [
              "<Figure size 432x288 with 2 Axes>"
            ],
            "image/png": "[encoded data removed]"
          },
          "metadata": {
            "needs_background": "light"
          }
        }
      ]
    },
    {
      "cell_type": "code",
      "source": [
        "actual_pred_graph(predictions, \"rfModel\")"
      ],
      "metadata": {
        "colab": {
          "base_uri": "https://localhost:8080/",
          "height": 295
        },
        "id": "nrRRbW84UBvk",
        "outputId": "251a71a1-cc8e-4fd0-e0e6-0cbfee2eaa1b"
      },
      "execution_count": null,
      "outputs": [
        {
          "output_type": "display_data",
          "data": {
            "text/plain": [
              "<Figure size 432x288 with 2 Axes>"
            ],
            "image/png": "[encoded data removed]"
          },
          "metadata": {
            "needs_background": "light"
          }
        }
      ]
    },
    {
      "cell_type": "code",
      "source": [
        "actual_pred_graph(predictions, \"xgbrModel\")"
      ],
      "metadata": {
        "colab": {
          "base_uri": "https://localhost:8080/",
          "height": 295
        },
        "id": "BWtnKl3OUB4r",
        "outputId": "6e67d50c-442a-4a64-a9f3-81ab5c0c870f"
      },
      "execution_count": null,
      "outputs": [
        {
          "output_type": "display_data",
          "data": {
            "text/plain": [
              "<Figure size 432x288 with 2 Axes>"
            ],
            "image/png": "[encoded data removed]"
          },
          "metadata": {
            "needs_background": "light"
          }
        }
      ]
    },
    {
      "cell_type": "code",
      "source": [
        "actual_pred_graph(predictions, \"ensemble\")"
      ],
      "metadata": {
        "colab": {
          "base_uri": "https://localhost:8080/",
          "height": 295
        },
        "id": "VxPNl6x8XQ4C",
        "outputId": "4e524853-5f03-4c50-a45f-7f6f98c55c57"
      },
      "execution_count": null,
      "outputs": [
        {
          "output_type": "display_data",
          "data": {
            "text/plain": [
              "<Figure size 432x288 with 2 Axes>"
            ],
            "image/png": "[encoded data removed]"
          },
          "metadata": {
            "needs_background": "light"
          }
        }
      ]
    },
    {
      "cell_type": "markdown",
      "source": [
        "### Model Metrics"
      ],
      "metadata": {
        "id": "-f4WGpv1WPPk"
      }
    },
    {
      "cell_type": "code",
      "source": [
        "from sklearn.metrics import explained_variance_score, max_error, mean_absolute_error, mean_squared_error, r2_score"
      ],
      "metadata": {
        "id": "YCYopqRcWUh7"
      },
      "execution_count": null,
      "outputs": []
    },
    {
      "cell_type": "markdown",
      "source": [
        "MAPE cannot be used here as we have many actuals = 0"
      ],
      "metadata": {
        "id": "0bQn1GdIWYn1"
      }
    },
    {
      "cell_type": "code",
      "source": [
        "eval = pd.DataFrame(index=predictions.drop(\"true\", axis=1).columns, columns=[\"explained_variance_score\",\"max_error\",\"mean_absolute_error\",\"mean_squared_error\",\"r2_score\"])"
      ],
      "metadata": {
        "id": "R6lo9FwJWoad"
      },
      "execution_count": null,
      "outputs": []
    },
    {
      "cell_type": "code",
      "source": [
        "for model in predictions.drop(\"true\", axis=1).columns:\n",
        "  eval.loc[model,\"explained_variance_score\"] = explained_variance_score(predictions[\"true\"], predictions[model])\n",
        "  eval.loc[model,\"max_error\"] = max_error(predictions[\"true\"], predictions[model])\n",
        "  eval.loc[model,\"mean_absolute_error\"] = mean_absolute_error(predictions[\"true\"], predictions[model])\n",
        "  eval.loc[model,\"mean_squared_error\"] = mean_squared_error(predictions[\"true\"], predictions[model])\n",
        "  eval.loc[model,\"r2_score\"] = r2_score(predictions[\"true\"], predictions[model])"
      ],
      "metadata": {
        "id": "cROARBI_WQw7"
      },
      "execution_count": null,
      "outputs": []
    },
    {
      "cell_type": "code",
      "source": [
        "eval"
      ],
      "metadata": {
        "colab": {
          "base_uri": "https://localhost:8080/",
          "height": 204
        },
        "id": "BFeyiCLQWuBr",
        "outputId": "74049b2b-8d9e-4504-b1d2-2f518aed7d8f"
      },
      "execution_count": null,
      "outputs": [
        {
          "output_type": "execute_result",
          "data": {
            "text/plain": [
              "            explained_variance_score max_error mean_absolute_error  \\\n",
              "linregModel                 0.767378       4.0            0.306977   \n",
              "knnModel                    0.715122       5.0            0.339535   \n",
              "rfModel                     0.786597       4.0            0.293023   \n",
              "xgbrModel                    0.75922       5.0            0.302326   \n",
              "ensemble                    0.770538       5.0            0.283721   \n",
              "\n",
              "            mean_squared_error  r2_score  \n",
              "linregModel           0.474419   0.76584  \n",
              "knnModel              0.590698  0.708448  \n",
              "rfModel               0.432558  0.786501  \n",
              "xgbrModel             0.488372  0.758953  \n",
              "ensemble              0.469767  0.768136  "
            ],
            "text/html": [
              "\n",
              "  <div id=\"df-719e758c-d32d-4bad-a44d-beef4fffdc5e\">\n",
              "    <div class=\"colab-df-container\">\n",
              "      <div>\n",
              "<style scoped>\n",
              "    .dataframe tbody tr th:only-of-type {\n",
              "        vertical-align: middle;\n",
              "    }\n",
              "\n",
              "    .dataframe tbody tr th {\n",
              "        vertical-align: top;\n",
              "    }\n",
              "\n",
              "    .dataframe thead th {\n",
              "        text-align: right;\n",
              "    }\n",
              "</style>\n",
              "<table border=\"1\" class=\"dataframe\">\n",
              "  <thead>\n",
              "    <tr style=\"text-align: right;\">\n",
              "      <th></th>\n",
              "      <th>explained_variance_score</th>\n",
              "      <th>max_error</th>\n",
              "      <th>mean_absolute_error</th>\n",
              "      <th>mean_squared_error</th>\n",
              "      <th>r2_score</th>\n",
              "    </tr>\n",
              "  </thead>\n",
              "  <tbody>\n",
              "    <tr>\n",
              "      <th>linregModel</th>\n",
              "      <td>0.767378</td>\n",
              "      <td>4.0</td>\n",
              "      <td>0.306977</td>\n",
              "      <td>0.474419</td>\n",
              "      <td>0.76584</td>\n",
              "    </tr>\n",
              "    <tr>\n",
              "      <th>knnModel</th>\n",
              "      <td>0.715122</td>\n",
              "      <td>5.0</td>\n",
              "      <td>0.339535</td>\n",
              "      <td>0.590698</td>\n",
              "      <td>0.708448</td>\n",
              "    </tr>\n",
              "    <tr>\n",
              "      <th>rfModel</th>\n",
              "      <td>0.786597</td>\n",
              "      <td>4.0</td>\n",
              "      <td>0.293023</td>\n",
              "      <td>0.432558</td>\n",
              "      <td>0.786501</td>\n",
              "    </tr>\n",
              "    <tr>\n",
              "      <th>xgbrModel</th>\n",
              "      <td>0.75922</td>\n",
              "      <td>5.0</td>\n",
              "      <td>0.302326</td>\n",
              "      <td>0.488372</td>\n",
              "      <td>0.758953</td>\n",
              "    </tr>\n",
              "    <tr>\n",
              "      <th>ensemble</th>\n",
              "      <td>0.770538</td>\n",
              "      <td>5.0</td>\n",
              "      <td>0.283721</td>\n",
              "      <td>0.469767</td>\n",
              "      <td>0.768136</td>\n",
              "    </tr>\n",
              "  </tbody>\n",
              "</table>\n",
              "</div>\n",
              "      <button class=\"colab-df-convert\" onclick=\"convertToInteractive('df-719e758c-d32d-4bad-a44d-beef4fffdc5e')\"\n",
              "              title=\"Convert this dataframe to an interactive table.\"\n",
              "              style=\"display:none;\">\n",
              "        \n",
              "  <svg xmlns=\"http://www.w3.org/2000/svg\" height=\"24px\"viewBox=\"0 0 24 24\"\n",
              "       width=\"24px\">\n",
              "    <path d=\"M0 0h24v24H0V0z\" fill=\"none\"/>\n",
              "    <path d=\"M18.56 5.44l.94 2.06.94-2.06 2.06-.94-2.06-.94-.94-2.06-.94 2.06-2.06.94zm-11 1L8.5 8.5l.94-2.06 2.06-.94-2.06-.94L8.5 2.5l-.94 2.06-2.06.94zm10 10l.94 2.06.94-2.06 2.06-.94-2.06-.94-.94-2.06-.94 2.06-2.06.94z\"/><path d=\"M17.41 7.96l-1.37-1.37c-.4-.4-.92-.59-1.43-.59-.52 0-1.04.2-1.43.59L10.3 9.45l-7.72 7.72c-.78.78-.78 2.05 0 2.83L4 21.41c.39.39.9.59 1.41.59.51 0 1.02-.2 1.41-.59l7.78-7.78 2.81-2.81c.8-.78.8-2.07 0-2.86zM5.41 20L4 18.59l7.72-7.72 1.47 1.35L5.41 20z\"/>\n",
              "  </svg>\n",
              "      </button>\n",
              "      \n",
              "  <style>\n",
              "    .colab-df-container {\n",
              "      display:flex;\n",
              "      flex-wrap:wrap;\n",
              "      gap: 12px;\n",
              "    }\n",
              "\n",
              "    .colab-df-convert {\n",
              "      background-color: #E8F0FE;\n",
              "      border: none;\n",
              "      border-radius: 50%;\n",
              "      cursor: pointer;\n",
              "      display: none;\n",
              "      fill: #1967D2;\n",
              "      height: 32px;\n",
              "      padding: 0 0 0 0;\n",
              "      width: 32px;\n",
              "    }\n",
              "\n",
              "    .colab-df-convert:hover {\n",
              "      background-color: #E2EBFA;\n",
              "      box-shadow: 0px 1px 2px rgba(60, 64, 67, 0.3), 0px 1px 3px 1px rgba(60, 64, 67, 0.15);\n",
              "      fill: #174EA6;\n",
              "    }\n",
              "\n",
              "    [theme=dark] .colab-df-convert {\n",
              "      background-color: #3B4455;\n",
              "      fill: #D2E3FC;\n",
              "    }\n",
              "\n",
              "    [theme=dark] .colab-df-convert:hover {\n",
              "      background-color: #434B5C;\n",
              "      box-shadow: 0px 1px 3px 1px rgba(0, 0, 0, 0.15);\n",
              "      filter: drop-shadow(0px 1px 2px rgba(0, 0, 0, 0.3));\n",
              "      fill: #FFFFFF;\n",
              "    }\n",
              "  </style>\n",
              "\n",
              "      <script>\n",
              "        const buttonEl =\n",
              "          document.querySelector('#df-719e758c-d32d-4bad-a44d-beef4fffdc5e button.colab-df-convert');\n",
              "        buttonEl.style.display =\n",
              "          google.colab.kernel.accessAllowed ? 'block' : 'none';\n",
              "\n",
              "        async function convertToInteractive(key) {\n",
              "          const element = document.querySelector('#df-719e758c-d32d-4bad-a44d-beef4fffdc5e');\n",
              "          const dataTable =\n",
              "            await google.colab.kernel.invokeFunction('convertToInteractive',\n",
              "                                                     [key], {});\n",
              "          if (!dataTable) return;\n",
              "\n",
              "          const docLinkHtml = 'Like what you see? Visit the ' +\n",
              "            '<a target=\"_blank\" href=https://colab.research.google.com/notebooks/data_table.ipynb>data table notebook</a>'\n",
              "            + ' to learn more about interactive tables.';\n",
              "          element.innerHTML = '';\n",
              "          dataTable['output_type'] = 'display_data';\n",
              "          await google.colab.output.renderOutput(dataTable, element);\n",
              "          const docLink = document.createElement('div');\n",
              "          docLink.innerHTML = docLinkHtml;\n",
              "          element.appendChild(docLink);\n",
              "        }\n",
              "      </script>\n",
              "    </div>\n",
              "  </div>\n",
              "  "
            ]
          },
          "metadata": {},
          "execution_count": 147
        }
      ]
    },
    {
      "cell_type": "code",
      "source": [
        "eval.drop(\"max_error\", axis=1).plot.bar(rot=1)"
      ],
      "metadata": {
        "colab": {
          "base_uri": "https://localhost:8080/",
          "height": 283
        },
        "id": "i7WfrNrXjbTj",
        "outputId": "8b57dd1f-5b1b-4d8d-9654-b414f195ffe8"
      },
      "execution_count": null,
      "outputs": [
        {
          "output_type": "execute_result",
          "data": {
            "text/plain": [
              "<matplotlib.axes._subplots.AxesSubplot at 0x7f90ec960a10>"
            ]
          },
          "metadata": {},
          "execution_count": 171
        },
        {
          "output_type": "display_data",
          "data": {
            "text/plain": [
              "<Figure size 432x288 with 1 Axes>"
            ],
            "image/png": "[encoded data removed]"
          },
          "metadata": {
            "needs_background": "light"
          }
        }
      ]
    },
    {
      "cell_type": "markdown",
      "source": [
        "The performance of the linear regression model seems unusually good compared to the alternatives. However, one mayor reason is, that due to the nature of the model, predictions can be < 0. This was the case for 50 of the 215 predictions. Due to the bias of our dataset, this artifically improves the performance of this model.\n",
        "\n",
        "We identified as our implementation of the Random Forest to be superior in all metrics except MAE where it scored 2nd after the ensemble"
      ],
      "metadata": {
        "id": "q2nqzCYukq72"
      }
    },
    {
      "cell_type": "code",
      "source": [
        "linregPredictions = linregModel.predict(X_test)\n",
        "print(\"# Predictions:\", len(linregPredictions))\n",
        "print(\"# Predictions < 0:\", sum(1 for x in linregPredictions if x < 0))"
      ],
      "metadata": {
        "colab": {
          "base_uri": "https://localhost:8080/"
        },
        "id": "RtPGLWp9lC78",
        "outputId": "963fd750-338e-43ba-9341-ebb754231db7"
      },
      "execution_count": null,
      "outputs": [
        {
          "output_type": "stream",
          "name": "stdout",
          "text": [
            "# Predictions: 215\n",
            "# Predictions < 0: 50\n"
          ]
        }
      ]
    },
    {
      "cell_type": "code",
      "source": [
        "predictions.sort_index(inplace=True)\n",
        "predictions"
      ],
      "metadata": {
        "colab": {
          "base_uri": "https://localhost:8080/",
          "height": 419
        },
        "id": "KetLA5ao2jSr",
        "outputId": "84058fb1-6f6f-4f8c-898e-4587664fb126"
      },
      "execution_count": null,
      "outputs": [
        {
          "output_type": "execute_result",
          "data": {
            "text/plain": [
              "      true  linregModel  knnModel  rfModel  xgbrModel  ensemble\n",
              "6      0.0          0.0       0.0      1.0        1.0       0.0\n",
              "17     0.0         -0.0       0.0      0.0        0.0       0.0\n",
              "18     0.0          0.0       0.0      0.0        0.0       0.0\n",
              "27     1.0          2.0       2.0      2.0        2.0       2.0\n",
              "30     0.0         -0.0       0.0      0.0        0.0       0.0\n",
              "...    ...          ...       ...      ...        ...       ...\n",
              "2107   1.0          0.0       0.0      0.0        0.0       0.0\n",
              "2110   0.0         -0.0       0.0      0.0        0.0       0.0\n",
              "2114   0.0          0.0       0.0      0.0        0.0       0.0\n",
              "2131   0.0          0.0       0.0      0.0        0.0       0.0\n",
              "2134   1.0          1.0       1.0      1.0        1.0       1.0\n",
              "\n",
              "[215 rows x 6 columns]"
            ],
            "text/html": [
              "\n",
              "  <div id=\"df-8b33a95b-1b74-4a96-9b2e-228883371caa\">\n",
              "    <div class=\"colab-df-container\">\n",
              "      <div>\n",
              "<style scoped>\n",
              "    .dataframe tbody tr th:only-of-type {\n",
              "        vertical-align: middle;\n",
              "    }\n",
              "\n",
              "    .dataframe tbody tr th {\n",
              "        vertical-align: top;\n",
              "    }\n",
              "\n",
              "    .dataframe thead th {\n",
              "        text-align: right;\n",
              "    }\n",
              "</style>\n",
              "<table border=\"1\" class=\"dataframe\">\n",
              "  <thead>\n",
              "    <tr style=\"text-align: right;\">\n",
              "      <th></th>\n",
              "      <th>true</th>\n",
              "      <th>linregModel</th>\n",
              "      <th>knnModel</th>\n",
              "      <th>rfModel</th>\n",
              "      <th>xgbrModel</th>\n",
              "      <th>ensemble</th>\n",
              "    </tr>\n",
              "  </thead>\n",
              "  <tbody>\n",
              "    <tr>\n",
              "      <th>6</th>\n",
              "      <td>0.0</td>\n",
              "      <td>0.0</td>\n",
              "      <td>0.0</td>\n",
              "      <td>1.0</td>\n",
              "      <td>1.0</td>\n",
              "      <td>0.0</td>\n",
              "    </tr>\n",
              "    <tr>\n",
              "      <th>17</th>\n",
              "      <td>0.0</td>\n",
              "      <td>-0.0</td>\n",
              "      <td>0.0</td>\n",
              "      <td>0.0</td>\n",
              "      <td>0.0</td>\n",
              "      <td>0.0</td>\n",
              "    </tr>\n",
              "    <tr>\n",
              "      <th>18</th>\n",
              "      <td>0.0</td>\n",
              "      <td>0.0</td>\n",
              "      <td>0.0</td>\n",
              "      <td>0.0</td>\n",
              "      <td>0.0</td>\n",
              "      <td>0.0</td>\n",
              "    </tr>\n",
              "    <tr>\n",
              "      <th>27</th>\n",
              "      <td>1.0</td>\n",
              "      <td>2.0</td>\n",
              "      <td>2.0</td>\n",
              "      <td>2.0</td>\n",
              "      <td>2.0</td>\n",
              "      <td>2.0</td>\n",
              "    </tr>\n",
              "    <tr>\n",
              "      <th>30</th>\n",
              "      <td>0.0</td>\n",
              "      <td>-0.0</td>\n",
              "      <td>0.0</td>\n",
              "      <td>0.0</td>\n",
              "      <td>0.0</td>\n",
              "      <td>0.0</td>\n",
              "    </tr>\n",
              "    <tr>\n",
              "      <th>...</th>\n",
              "      <td>...</td>\n",
              "      <td>...</td>\n",
              "      <td>...</td>\n",
              "      <td>...</td>\n",
              "      <td>...</td>\n",
              "      <td>...</td>\n",
              "    </tr>\n",
              "    <tr>\n",
              "      <th>2107</th>\n",
              "      <td>1.0</td>\n",
              "      <td>0.0</td>\n",
              "      <td>0.0</td>\n",
              "      <td>0.0</td>\n",
              "      <td>0.0</td>\n",
              "      <td>0.0</td>\n",
              "    </tr>\n",
              "    <tr>\n",
              "      <th>2110</th>\n",
              "      <td>0.0</td>\n",
              "      <td>-0.0</td>\n",
              "      <td>0.0</td>\n",
              "      <td>0.0</td>\n",
              "      <td>0.0</td>\n",
              "      <td>0.0</td>\n",
              "    </tr>\n",
              "    <tr>\n",
              "      <th>2114</th>\n",
              "      <td>0.0</td>\n",
              "      <td>0.0</td>\n",
              "      <td>0.0</td>\n",
              "      <td>0.0</td>\n",
              "      <td>0.0</td>\n",
              "      <td>0.0</td>\n",
              "    </tr>\n",
              "    <tr>\n",
              "      <th>2131</th>\n",
              "      <td>0.0</td>\n",
              "      <td>0.0</td>\n",
              "      <td>0.0</td>\n",
              "      <td>0.0</td>\n",
              "      <td>0.0</td>\n",
              "      <td>0.0</td>\n",
              "    </tr>\n",
              "    <tr>\n",
              "      <th>2134</th>\n",
              "      <td>1.0</td>\n",
              "      <td>1.0</td>\n",
              "      <td>1.0</td>\n",
              "      <td>1.0</td>\n",
              "      <td>1.0</td>\n",
              "      <td>1.0</td>\n",
              "    </tr>\n",
              "  </tbody>\n",
              "</table>\n",
              "<p>215 rows × 6 columns</p>\n",
              "</div>\n",
              "      <button class=\"colab-df-convert\" onclick=\"convertToInteractive('df-8b33a95b-1b74-4a96-9b2e-228883371caa')\"\n",
              "              title=\"Convert this dataframe to an interactive table.\"\n",
              "              style=\"display:none;\">\n",
              "        \n",
              "  <svg xmlns=\"http://www.w3.org/2000/svg\" height=\"24px\"viewBox=\"0 0 24 24\"\n",
              "       width=\"24px\">\n",
              "    <path d=\"M0 0h24v24H0V0z\" fill=\"none\"/>\n",
              "    <path d=\"M18.56 5.44l.94 2.06.94-2.06 2.06-.94-2.06-.94-.94-2.06-.94 2.06-2.06.94zm-11 1L8.5 8.5l.94-2.06 2.06-.94-2.06-.94L8.5 2.5l-.94 2.06-2.06.94zm10 10l.94 2.06.94-2.06 2.06-.94-2.06-.94-.94-2.06-.94 2.06-2.06.94z\"/><path d=\"M17.41 7.96l-1.37-1.37c-.4-.4-.92-.59-1.43-.59-.52 0-1.04.2-1.43.59L10.3 9.45l-7.72 7.72c-.78.78-.78 2.05 0 2.83L4 21.41c.39.39.9.59 1.41.59.51 0 1.02-.2 1.41-.59l7.78-7.78 2.81-2.81c.8-.78.8-2.07 0-2.86zM5.41 20L4 18.59l7.72-7.72 1.47 1.35L5.41 20z\"/>\n",
              "  </svg>\n",
              "      </button>\n",
              "      \n",
              "  <style>\n",
              "    .colab-df-container {\n",
              "      display:flex;\n",
              "      flex-wrap:wrap;\n",
              "      gap: 12px;\n",
              "    }\n",
              "\n",
              "    .colab-df-convert {\n",
              "      background-color: #E8F0FE;\n",
              "      border: none;\n",
              "      border-radius: 50%;\n",
              "      cursor: pointer;\n",
              "      display: none;\n",
              "      fill: #1967D2;\n",
              "      height: 32px;\n",
              "      padding: 0 0 0 0;\n",
              "      width: 32px;\n",
              "    }\n",
              "\n",
              "    .colab-df-convert:hover {\n",
              "      background-color: #E2EBFA;\n",
              "      box-shadow: 0px 1px 2px rgba(60, 64, 67, 0.3), 0px 1px 3px 1px rgba(60, 64, 67, 0.15);\n",
              "      fill: #174EA6;\n",
              "    }\n",
              "\n",
              "    [theme=dark] .colab-df-convert {\n",
              "      background-color: #3B4455;\n",
              "      fill: #D2E3FC;\n",
              "    }\n",
              "\n",
              "    [theme=dark] .colab-df-convert:hover {\n",
              "      background-color: #434B5C;\n",
              "      box-shadow: 0px 1px 3px 1px rgba(0, 0, 0, 0.15);\n",
              "      filter: drop-shadow(0px 1px 2px rgba(0, 0, 0, 0.3));\n",
              "      fill: #FFFFFF;\n",
              "    }\n",
              "  </style>\n",
              "\n",
              "      <script>\n",
              "        const buttonEl =\n",
              "          document.querySelector('#df-8b33a95b-1b74-4a96-9b2e-228883371caa button.colab-df-convert');\n",
              "        buttonEl.style.display =\n",
              "          google.colab.kernel.accessAllowed ? 'block' : 'none';\n",
              "\n",
              "        async function convertToInteractive(key) {\n",
              "          const element = document.querySelector('#df-8b33a95b-1b74-4a96-9b2e-228883371caa');\n",
              "          const dataTable =\n",
              "            await google.colab.kernel.invokeFunction('convertToInteractive',\n",
              "                                                     [key], {});\n",
              "          if (!dataTable) return;\n",
              "\n",
              "          const docLinkHtml = 'Like what you see? Visit the ' +\n",
              "            '<a target=\"_blank\" href=https://colab.research.google.com/notebooks/data_table.ipynb>data table notebook</a>'\n",
              "            + ' to learn more about interactive tables.';\n",
              "          element.innerHTML = '';\n",
              "          dataTable['output_type'] = 'display_data';\n",
              "          await google.colab.output.renderOutput(dataTable, element);\n",
              "          const docLink = document.createElement('div');\n",
              "          docLink.innerHTML = docLinkHtml;\n",
              "          element.appendChild(docLink);\n",
              "        }\n",
              "      </script>\n",
              "    </div>\n",
              "  </div>\n",
              "  "
            ]
          },
          "metadata": {},
          "execution_count": 180
        }
      ]
    }
  ]
}