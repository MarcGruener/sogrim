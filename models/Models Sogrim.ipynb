{
 "cells": [
  {
   "cell_type": "code",
   "execution_count": 1,
   "metadata": {},
   "outputs": [
    {
     "name": "stdout",
     "output_type": "stream",
     "text": [
      "<class 'pandas.core.frame.DataFrame'>\n",
      "RangeIndex: 2142 entries, 0 to 2141\n",
      "Data columns (total 44 columns):\n",
      " #   Column                                  Non-Null Count  Dtype  \n",
      "---  ------                                  --------------  -----  \n",
      " 0   GMDNAME                                 2142 non-null   object \n",
      " 1   KTNAME                                  2142 non-null   object \n",
      " 2   LAT_CNTR                                2142 non-null   float64\n",
      " 3   LONG_CNTR                               2142 non-null   float64\n",
      " 4   HEIGHT_CNTR                             2142 non-null   float64\n",
      " 5   BEVDICHTE_SQKM_ 2019                    2142 non-null   float64\n",
      " 6   AUSLAENDER_ANTEIL_2019                  2142 non-null   float64\n",
      " 7   ALTERSVERTEILUNG_ANTEIL_0_19_ 2019      2142 non-null   float64\n",
      " 8   ALTERSVERTEILUNG_ANTEIL_20_64_ 2019     2142 non-null   float64\n",
      " 9   ALTERSVERTEILUNG_ANTEIL_65PLUS_ 2019    2142 non-null   float64\n",
      " 10  PRIVATHAUSHALTE_2019                    2142 non-null   int64  \n",
      " 11  DURCHSCH_HAUSHALTSGROESSE_2019          2142 non-null   float64\n",
      " 12  GESAMTFLAECHE_ SQKM_2016                2142 non-null   float64\n",
      " 13  LANDWIRTSCHAFTSFLAECHE_ANTEIL_2004/09   2142 non-null   float64\n",
      " 14  WALD_GEHOELZE_ANTEIL_2004/09            2142 non-null   float64\n",
      " 15  UNPRODUKTIVE_FLAECHE_ANTEIL_2004/09     2142 non-null   float64\n",
      " 16  BESCHAEFTIGTE_TOTAL_2018                2142 non-null   float64\n",
      " 17  BESCHAEFTIGTE_ERSTERSEKTOR_2018         2142 non-null   float64\n",
      " 18  BESCHAEFTIGTE_ZWEITERRSEKTOR_2018       2142 non-null   float64\n",
      " 19  BESCHAEFTIGTE_DRITTERSEKTOR_2018        2142 non-null   float64\n",
      " 20  ARBEITSSTAETTEN_TOTAL_2018              2142 non-null   float64\n",
      " 21  ARBEITSSTAETTEN_ERSTERSEKTOR_2018       2142 non-null   float64\n",
      " 22  ARBEITSSTAETTEN_ZWEITERSEKTOR_2018      2142 non-null   float64\n",
      " 23  ARBEITSSTAETTEN_DRITTERSEKTOR_2018      2142 non-null   float64\n",
      " 24  NEUWOHNUNGEN_PRO_1000_2018              2142 non-null   float64\n",
      " 25  SOZAILHILFEQUOTE_2019                   2142 non-null   float64\n",
      " 26  WAEHLERANTEIL_FDP_2019                  2142 non-null   float64\n",
      " 27  WAEHLERANTEIL_CVP_2019                  2142 non-null   float64\n",
      " 28  WAEHLERANTEIL_SP_2019                   2142 non-null   float64\n",
      " 29  WAEHLERANTEIL_SVP_2019                  2142 non-null   float64\n",
      " 30  WAEHLERANTEIL_EVP_CSP_2019              2142 non-null   float64\n",
      " 31  WAEHLERANTEIL_GLP_2019                  2142 non-null   float64\n",
      " 32  WAEHLERANTEIL_BDP_2019                  2142 non-null   float64\n",
      " 33  WAEHLERANTEIL_PDA_SOL_2019              2142 non-null   float64\n",
      " 34  WAEHLERANTEIL_GPS_2019                  2142 non-null   float64\n",
      " 35  WAEHLERANTEIL_KLEINERECHTSPARTEIN_2019  2142 non-null   float64\n",
      " 36  AVG_INCOME_PRO_STEUERPFLPERSON          2142 non-null   float64\n",
      " 37  STEUERBARES_EINKOMMEN_GEMEINDE          2142 non-null   float64\n",
      " 38  ANZAHL_FAHRZEUGE                        2142 non-null   float64\n",
      " 39  ANZAHL_HALTESTELLEN_OV                  2142 non-null   int64  \n",
      " 40  Anzahl Filialen Coop                    2142 non-null   int64  \n",
      " 41  Anzahl Filialen Migros                  2142 non-null   int64  \n",
      " 42  Anzahl Filialen Denner                  2142 non-null   int64  \n",
      " 43  Anzahl Filialen Spar                    2142 non-null   int64  \n",
      "dtypes: float64(36), int64(6), object(2)\n",
      "memory usage: 736.4+ KB\n"
     ]
    }
   ],
   "source": [
    "import pandas as pd\n",
    "import matplotlib.pyplot as plt\n",
    "\n",
    "xls = pd.ExcelFile('aggregated_backup.xlsx')\n",
    "df = pd.read_excel(xls, 'Main')\n",
    "df = df.fillna(0)\n",
    "df.info()"
   ]
  },
  {
   "cell_type": "code",
   "execution_count": 2,
   "metadata": {},
   "outputs": [],
   "source": [
    "#df = df[df[\"Anzahl Filialen Migros\"] != 0]"
   ]
  },
  {
   "cell_type": "code",
   "execution_count": 5,
   "metadata": {},
   "outputs": [
    {
     "data": {
      "text/plain": [
       "<AxesSubplot:>"
      ]
     },
     "execution_count": 5,
     "metadata": {},
     "output_type": "execute_result"
    },
    {
     "data": {
      "image/png": "[encoded data removed]",
      "text/plain": [
       "<Figure size 1080x720 with 2 Axes>"
      ]
     },
     "metadata": {
      "needs_background": "light"
     },
     "output_type": "display_data"
    }
   ],
   "source": [
    "import seaborn as sns\n",
    "\n",
    "correlation_matrix = df[[\"Anzahl Filialen Coop\",\"Anzahl Filialen Migros\",\"Anzahl Filialen Denner\",\"Anzahl Filialen Spar\"]].corr()\n",
    "plt.rcParams[\"figure.figsize\"] = (15,10)\n",
    "sns.heatmap(correlation_matrix, xticklabels = correlation_matrix.columns, yticklabels = correlation_matrix.columns, annot=True)"
   ]
  },
  {
   "cell_type": "code",
   "execution_count": 3,
   "metadata": {},
   "outputs": [],
   "source": [
    "from sklearn.model_selection import train_test_split\n",
    "\n",
    "Supermarkt = \"Anzahl Filialen Spar\"\n",
    "\n",
    "X = df.drop(['GMDNAME', 'KTNAME', 'LAT_CNTR', 'LONG_CNTR', 'HEIGHT_CNTR',Supermarkt],axis=1)\n",
    "y = df[Supermarkt]\n",
    "\n",
    "X_train, X_test, y_train, y_test = train_test_split(X, y, test_size=0.3, random_state=1)"
   ]
  },
  {
   "cell_type": "code",
   "execution_count": 4,
   "metadata": {},
   "outputs": [
    {
     "name": "stdout",
     "output_type": "stream",
     "text": [
      "0.6376218727737462\n",
      "0.357109529660276\n",
      "133076816360870.08\n"
     ]
    }
   ],
   "source": [
    "from sklearn.linear_model import LinearRegression\n",
    "from sklearn.metrics import classification_report\n",
    "from sklearn.metrics import mean_squared_error, mean_absolute_percentage_error\n",
    "\n",
    "model = LinearRegression().fit(X_train, y_train)\n",
    "y_pred= model.predict(X_test)\n",
    "y_pred = y_pred.clip(min = 0)\n",
    "y_pred = y_pred.round()\n",
    "\n",
    "R2 = model.score(X_train, y_train)\n",
    "RMSE = mean_squared_error(y_test, y_pred, squared=False)\n",
    "MAPE= mean_absolute_percentage_error(y_test, y_pred)\n",
    "\n",
    "print(R2)\n",
    "print(RMSE)\n",
    "print(MAPE)\n",
    "\n",
    "#print(y_pred)\n",
    "#print(y_test)"
   ]
  },
  {
   "cell_type": "code",
   "execution_count": 5,
   "metadata": {},
   "outputs": [
    {
     "name": "stdout",
     "output_type": "stream",
     "text": [
      "0.9998610345694783\n",
      "0.5216912322774342\n",
      "238137460856293.72\n"
     ]
    }
   ],
   "source": [
    "from xgboost import XGBRegressor\n",
    "from sklearn.metrics import classification_report\n",
    "from sklearn.metrics import mean_squared_error, mean_absolute_percentage_error\n",
    "\n",
    "model = XGBRegressor().fit(X_train, y_train)\n",
    "y_pred= model.predict(X_test)\n",
    "y_pred = y_pred.clip(min = 0)\n",
    "y_pred = y_pred.round()\n",
    "\n",
    "R2 = model.score(X_train, y_train)\n",
    "RMSE = mean_squared_error(y_test, y_pred, squared=False)\n",
    "MAPE= mean_absolute_percentage_error(y_test, y_pred)\n",
    "\n",
    "print(R2)\n",
    "print(RMSE)\n",
    "print(MAPE)\n",
    "\n",
    "#print(y_pred)\n",
    "#print(y_test)"
   ]
  },
  {
   "cell_type": "code",
   "execution_count": 6,
   "metadata": {},
   "outputs": [
    {
     "name": "stdout",
     "output_type": "stream",
     "text": [
      "0.9263457054397881\n",
      "0.4136098341043249\n",
      "147084902293593.22\n"
     ]
    }
   ],
   "source": [
    "from sklearn.ensemble import RandomForestRegressor\n",
    "from sklearn.metrics import classification_report\n",
    "from sklearn.metrics import mean_squared_error, mean_absolute_percentage_error\n",
    "\n",
    "model = RandomForestRegressor().fit(X_train, y_train)\n",
    "y_pred= model.predict(X_test)\n",
    "y_pred = y_pred.clip(min = 0)\n",
    "y_pred = y_pred.round()\n",
    "\n",
    "R2 = model.score(X_train, y_train)\n",
    "RMSE = mean_squared_error(y_test, y_pred, squared=False)\n",
    "MAPE= mean_absolute_percentage_error(y_test, y_pred)\n",
    "\n",
    "print(R2)\n",
    "print(RMSE)\n",
    "print(MAPE)\n",
    "\n",
    "#print(y_pred)\n",
    "#print(y_test)"
   ]
  },
  {
   "cell_type": "code",
   "execution_count": 8,
   "metadata": {},
   "outputs": [
    {
     "name": "stdout",
     "output_type": "stream",
     "text": [
      "Anzahl Filialen Migros\n",
      "LinearRegression\n",
      "Der R2 beträgt: 0.5306876482843224\n",
      "Der RMSE beträgt: 1.5792184477442035\n",
      "Der MAPE beträgt: 336403333510401.3\n",
      "XGBRegressor\n",
      "Der R2 beträgt: 0.999982704076284\n",
      "Der RMSE beträgt: 1.9494067665223724\n",
      "Der MAPE beträgt: 365838625192561.3\n",
      "RandomForest\n",
      "Der R2 beträgt: 0.8839176028148289\n",
      "Der RMSE beträgt: 1.8634526151545248\n",
      "Der MAPE beträgt: 412094083550241.5\n",
      "\n",
      "\n",
      "Anzahl Filialen Coop\n",
      "LinearRegression\n",
      "Der R2 beträgt: 0.7733033682758528\n",
      "Der RMSE beträgt: 0.6057613215710331\n",
      "Der MAPE beträgt: 218662166781760.9\n",
      "XGBRegressor\n",
      "Der R2 beträgt: 0.9999728730769923\n",
      "Der RMSE beträgt: 1.4455572815844195\n",
      "Der MAPE beträgt: 327993250172641.3\n",
      "RandomForest\n",
      "Der R2 beträgt: 0.9180840635316428\n",
      "Der RMSE beträgt: 1.5983184440966374\n",
      "Der MAPE beträgt: 294352916821601.2\n",
      "\n",
      "\n",
      "Anzahl Filialen Denner\n",
      "LinearRegression\n",
      "Der R2 beträgt: 0.8312867671221659\n",
      "Der RMSE beträgt: 0.6666666666666666\n",
      "Der MAPE beträgt: 235482333457280.97\n",
      "XGBRegressor\n",
      "Der R2 beträgt: 0.999972738848012\n",
      "Der RMSE beträgt: 0.9442933915563892\n",
      "Der MAPE beträgt: 285942833483841.1\n",
      "RandomForest\n",
      "Der R2 beträgt: 0.9493250481516063\n",
      "Der RMSE beträgt: 1.0339701661017218\n",
      "Der MAPE beträgt: 231277291788400.94\n",
      "\n",
      "\n",
      "Anzahl Filialen Spar\n",
      "LinearRegression\n",
      "Der R2 beträgt: 0.4992227252436965\n",
      "Der RMSE beträgt: 0.401909541039197\n",
      "Der MAPE beträgt: 134561333404160.53\n",
      "XGBRegressor\n",
      "Der R2 beträgt: 0.9999736766338769\n",
      "Der RMSE beträgt: 0.4552833328436987\n",
      "Der MAPE beträgt: 172406708424080.7\n",
      "RandomForest\n",
      "Der R2 beträgt: 0.9190229019121813\n",
      "Der RMSE beträgt: 0.4277926319464986\n",
      "Der MAPE beträgt: 79895791708720.34\n",
      "\n",
      "\n"
     ]
    }
   ],
   "source": [
    "Supermarkets = [\"Anzahl Filialen Migros\", \"Anzahl Filialen Coop\", \"Anzahl Filialen Denner\", \"Anzahl Filialen Spar\"]\n",
    "\n",
    "for supermarkt in Supermarkets:\n",
    "    from sklearn.model_selection import train_test_split\n",
    "    \n",
    "    print(supermarkt)\n",
    "    Supermarkt = supermarkt\n",
    "\n",
    "    X = df.drop(['GMDNAME', 'KTNAME', 'LAT_CNTR', 'LONG_CNTR', 'HEIGHT_CNTR',Supermarkt],axis=1)\n",
    "    y = df[Supermarkt]\n",
    "\n",
    "    X_train, X_test, y_train, y_test = train_test_split(X, y, test_size=0.5, random_state=1)\n",
    "    \n",
    "    \n",
    "    \n",
    "    from sklearn.linear_model import LinearRegression\n",
    "    from sklearn.metrics import mean_squared_error, mean_absolute_percentage_error\n",
    "\n",
    "    model = LinearRegression().fit(X_train, y_train)\n",
    "    y_pred= model.predict(X_test)\n",
    "    y_pred = y_pred.clip(min = 0)\n",
    "    y_pred = y_pred.round()\n",
    "\n",
    "    R2 = model.score(X_train, y_train)\n",
    "    RMSE = mean_squared_error(y_test, y_pred, squared=False)\n",
    "    MAPE= mean_absolute_percentage_error(y_test, y_pred)\n",
    "    \n",
    "    print(\"LinearRegression\")\n",
    "    print(\"Der R2 beträgt: \"+ str(R2))\n",
    "    print(\"Der RMSE beträgt: \"+ str(RMSE))\n",
    "    print(\"Der MAPE beträgt: \"+ str(MAPE))\n",
    "\n",
    "    #print(y_pred)\n",
    "    #print(y_test)\n",
    "    \n",
    "    \n",
    "    from xgboost import XGBRegressor\n",
    "\n",
    "\n",
    "    model = XGBRegressor().fit(X_train, y_train)\n",
    "    y_pred= model.predict(X_test)\n",
    "    y_pred = y_pred.clip(min = 0)\n",
    "    y_pred = y_pred.round()\n",
    "\n",
    "    R2 = model.score(X_train, y_train)\n",
    "    RMSE = mean_squared_error(y_test, y_pred, squared=False)\n",
    "    MAPE= mean_absolute_percentage_error(y_test, y_pred)\n",
    "    \n",
    "    print(\"XGBRegressor\")\n",
    "    print(\"Der R2 beträgt: \"+ str(R2))\n",
    "    print(\"Der RMSE beträgt: \"+ str(RMSE))\n",
    "    print(\"Der MAPE beträgt: \"+ str(MAPE))\n",
    "    #print(y_pred)\n",
    "    #print(y_test)\n",
    "    \n",
    "    from sklearn.ensemble import RandomForestRegressor\n",
    "\n",
    "    model = RandomForestRegressor().fit(X_train, y_train)\n",
    "    y_pred= model.predict(X_test)\n",
    "    y_pred = y_pred.clip(min = 0)\n",
    "    y_pred = y_pred.round()\n",
    "\n",
    "    R2 = model.score(X_train, y_train)\n",
    "    RMSE = mean_squared_error(y_test, y_pred, squared=False)\n",
    "    MAPE= mean_absolute_percentage_error(y_test, y_pred)\n",
    "\n",
    "    print(\"RandomForest\")\n",
    "    print(\"Der R2 beträgt: \"+ str(R2))\n",
    "    print(\"Der RMSE beträgt: \"+ str(RMSE))\n",
    "    print(\"Der MAPE beträgt: \"+ str(MAPE))\n",
    "    \n",
    "    print(\"\")\n",
    "    print(\"\")\n",
    "    #print(y_pred)\n",
    "    #print(y_test)"
   ]
  },
  {
   "cell_type": "code",
   "execution_count": null,
   "metadata": {},
   "outputs": [],
   "source": []
  }
 ],
 "metadata": {
  "kernelspec": {
   "display_name": "Python 3",
   "language": "python",
   "name": "python3"
  },
  "language_info": {
   "codemirror_mode": {
    "name": "ipython",
    "version": 3
   },
   "file_extension": ".py",
   "mimetype": "text/x-python",
   "name": "python",
   "nbconvert_exporter": "python",
   "pygments_lexer": "ipython3",
   "version": "3.8.5"
  }
 },
 "nbformat": 4,
 "nbformat_minor": 4
}
